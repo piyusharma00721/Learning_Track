{
  "nbformat": 4,
  "nbformat_minor": 0,
  "metadata": {
    "colab": {
      "provenance": [],
      "toc_visible": true,
      "authorship_tag": "ABX9TyNBtxQZNanE4WK0pVQHMq6w",
      "include_colab_link": true
    },
    "kernelspec": {
      "name": "python3",
      "display_name": "Python 3"
    },
    "language_info": {
      "name": "python"
    }
  },
  "cells": [
    {
      "cell_type": "markdown",
      "metadata": {
        "id": "view-in-github",
        "colab_type": "text"
      },
      "source": [
        "<a href=\"https://colab.research.google.com/github/piyusharma00721/Learning_Track/blob/main/Python_Learning_Whole.ipynb\" target=\"_parent\"><img src=\"https://colab.research.google.com/assets/colab-badge.svg\" alt=\"Open In Colab\"/></a>"
      ]
    },
    {
      "cell_type": "code",
      "execution_count": null,
      "metadata": {
        "colab": {
          "base_uri": "https://localhost:8080/"
        },
        "id": "_jzeeBT54B82",
        "outputId": "0fb8c401-d703-476c-ed4e-0b14d3459087"
      },
      "outputs": [
        {
          "output_type": "execute_result",
          "data": {
            "text/plain": [
              "['False',\n",
              " 'None',\n",
              " 'True',\n",
              " 'and',\n",
              " 'as',\n",
              " 'assert',\n",
              " 'async',\n",
              " 'await',\n",
              " 'break',\n",
              " 'class',\n",
              " 'continue',\n",
              " 'def',\n",
              " 'del',\n",
              " 'elif',\n",
              " 'else',\n",
              " 'except',\n",
              " 'finally',\n",
              " 'for',\n",
              " 'from',\n",
              " 'global',\n",
              " 'if',\n",
              " 'import',\n",
              " 'in',\n",
              " 'is',\n",
              " 'lambda',\n",
              " 'nonlocal',\n",
              " 'not',\n",
              " 'or',\n",
              " 'pass',\n",
              " 'raise',\n",
              " 'return',\n",
              " 'try',\n",
              " 'while',\n",
              " 'with',\n",
              " 'yield']"
            ]
          },
          "metadata": {},
          "execution_count": 5
        }
      ],
      "source": [
        "#keyword list with help of keyword module\n",
        "import keyword\n",
        "keyword.kwlist"
      ]
    },
    {
      "cell_type": "markdown",
      "source": [
        "####Data Types in Pyhton\n",
        "######int float complex bool str    #***Immutable***\n",
        "######byte #***Immutable***  bytearray #***Mutable***\n",
        "######range\n",
        "######list #***Mutable*** #***Hetrogeneous***\n",
        "######tuple #***Immutable***\n",
        "######set #***Mutable***\n",
        "######frozenset  #***Immutable***\n",
        "######dict #***Mutable***\n",
        "######None #***Declare for Future Use ***"
      ],
      "metadata": {
        "id": "MKg9VJm4ruzQ"
      }
    },
    {
      "cell_type": "code",
      "source": [
        "#int"
      ],
      "metadata": {
        "id": "Ovk5B-uhrlQn"
      },
      "execution_count": null,
      "outputs": []
    },
    {
      "cell_type": "code",
      "source": [],
      "metadata": {
        "id": "fjzNbec4rmlS"
      },
      "execution_count": null,
      "outputs": []
    },
    {
      "cell_type": "code",
      "source": [],
      "metadata": {
        "id": "wk_FI3_srnMm"
      },
      "execution_count": null,
      "outputs": []
    },
    {
      "cell_type": "code",
      "source": [
        "#random number genrator\n",
        "from random import *\n",
        "print(randint(0,9),randint(0,9),randint(0,9),randint(0,9),randint(0,9),randint(0,9),sep ='')\n",
        "#sep='' is a seperator which is used to seperate the digits without space"
      ],
      "metadata": {
        "colab": {
          "base_uri": "https://localhost:8080/"
        },
        "id": "yriLOi-i-aDY",
        "outputId": "e04b369e-c97d-491a-994f-1ee23d9c42e5"
      },
      "execution_count": null,
      "outputs": [
        {
          "output_type": "stream",
          "name": "stdout",
          "text": [
            "259509\n"
          ]
        }
      ]
    },
    {
      "cell_type": "code",
      "source": [
        "#finding length of 4 list as list\n",
        "a = [1, 2, 3]\n",
        "b = [1, [2, 3]]\n",
        "c = []\n",
        "d = [1, 2, 3][1:]\n",
        "lengths = [len(a),len(b),len(c),len(d)]\n",
        "print(lengths)"
      ],
      "metadata": {
        "colab": {
          "base_uri": "https://localhost:8080/"
        },
        "id": "7CUefenr7cEy",
        "outputId": "58e60dac-742c-45b8-ef05-5d65913db864"
      },
      "execution_count": null,
      "outputs": [
        {
          "output_type": "stream",
          "name": "stdout",
          "text": [
            "[3, 2, 0, 2]\n"
          ]
        }
      ]
    },
    {
      "cell_type": "code",
      "source": [
        "a = 10\n",
        "b = 0o10\n",
        "c = 0b10\n",
        "d = 0x10\n",
        "print(a,b,c,d)"
      ],
      "metadata": {
        "colab": {
          "base_uri": "https://localhost:8080/"
        },
        "id": "w9Z7wRhlDTip",
        "outputId": "c8fc6cad-41a3-43c8-e90a-f0fd35a93b39"
      },
      "execution_count": null,
      "outputs": [
        {
          "output_type": "stream",
          "name": "stdout",
          "text": [
            "10 8 2 16\n"
          ]
        }
      ]
    },
    {
      "cell_type": "code",
      "source": [
        "#example of None\n",
        "def func():\n",
        "  None\n",
        "\n",
        "print(func())"
      ],
      "metadata": {
        "colab": {
          "base_uri": "https://localhost:8080/"
        },
        "id": "s9PgLjm_oKZG",
        "outputId": "e72a43da-bcca-469b-cf64-31c64169c43f"
      },
      "execution_count": null,
      "outputs": [
        {
          "output_type": "stream",
          "name": "stdout",
          "text": [
            "None\n"
          ]
        }
      ]
    },
    {
      "cell_type": "code",
      "source": [
        "x=4\n",
        "print(-x)"
      ],
      "metadata": {
        "colab": {
          "base_uri": "https://localhost:8080/"
        },
        "id": "Va9MqAQ1baYn",
        "outputId": "e4ba30b9-1a4a-433b-9746-d961f3813a0d"
      },
      "execution_count": null,
      "outputs": [
        {
          "output_type": "stream",
          "name": "stdout",
          "text": [
            "-4\n"
          ]
        }
      ]
    },
    {
      "cell_type": "markdown",
      "source": [
        "if else programs\n"
      ],
      "metadata": {
        "id": "lQjkmzrs9d1d"
      }
    },
    {
      "cell_type": "code",
      "source": [
        "#finding greatest no in between two numbers\n",
        "no1 = int(input(\"enter the first no\"))\n",
        "no2 = int (input(\"enter the second no\"))\n",
        "print(\"your first no is %d\"%no1,\"your second no is %d\"%no2  )\n",
        "if no1>no2 :\n",
        "  print(no1,\"is greatest no\")\n",
        "else:\n",
        "  print(no2,\"is greatest no\")"
      ],
      "metadata": {
        "colab": {
          "base_uri": "https://localhost:8080/"
        },
        "id": "qUuSij2c9j6A",
        "outputId": "5cddc48f-52af-414d-984d-12f3e3dc3f86"
      },
      "execution_count": null,
      "outputs": [
        {
          "output_type": "stream",
          "name": "stdout",
          "text": [
            "enter the first no4\n",
            "enter the second no5\n",
            "your first no is 4 your second no is 5\n",
            "5 is greatest no\n"
          ]
        }
      ]
    },
    {
      "cell_type": "code",
      "source": [
        "a = eval(input(\"enter the no with space\"))\n",
        "print(a)\n",
        "print(type(a))"
      ],
      "metadata": {
        "colab": {
          "base_uri": "https://localhost:8080/"
        },
        "id": "9wFNmwI5mZfq",
        "outputId": "513e6183-55c8-4616-da35-ee9afac47657"
      },
      "execution_count": null,
      "outputs": [
        {
          "output_type": "stream",
          "name": "stdout",
          "text": [
            "enter the no with space{10:1,20:2}\n",
            "{10: 1, 20: 2}\n",
            "<class 'dict'>\n"
          ]
        }
      ]
    },
    {
      "cell_type": "code",
      "source": [
        "#check the given no is in bwtween 1-100\n",
        "no = int(input(\"enter the no you want to check \"))\n",
        "for i in range(101):\n",
        "  if no is i :\n",
        "    print(\"%d is in between 1-100\"%no)\n",
        "\n",
        "\n",
        "\n"
      ],
      "metadata": {
        "colab": {
          "base_uri": "https://localhost:8080/"
        },
        "id": "rJS8T-pq14FM",
        "outputId": "62733c9b-d3a8-4394-a098-f0b62c254227"
      },
      "execution_count": null,
      "outputs": [
        {
          "output_type": "stream",
          "name": "stdout",
          "text": [
            "enter the no you want to check 99\n",
            "99 is in between 1-100\n"
          ]
        }
      ]
    },
    {
      "cell_type": "code",
      "source": [],
      "metadata": {
        "id": "JByaYpapH8SZ"
      },
      "execution_count": null,
      "outputs": []
    },
    {
      "cell_type": "code",
      "source": [
        "#printing digits into alphabate char\n",
        "digi = [list[x]for x in input(\"enter digit\").split(',')]\n",
        "print(digi)"
      ],
      "metadata": {
        "colab": {
          "base_uri": "https://localhost:8080/"
        },
        "id": "aYVe0jw76RR9",
        "outputId": "a276a976-3972-4e96-bc27-fcad7844cae1"
      },
      "execution_count": null,
      "outputs": [
        {
          "output_type": "stream",
          "name": "stdout",
          "text": [
            "enter digit10 30 30 , 40.8\n",
            "[list['10 30 30 '], list[' 40.8']]\n"
          ]
        }
      ]
    }
  ]
}